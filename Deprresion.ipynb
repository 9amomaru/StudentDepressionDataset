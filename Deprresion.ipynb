{
 "cells": [
  {
   "cell_type": "code",
   "execution_count": 2,
   "metadata": {},
   "outputs": [],
   "source": [
    "import pandas as pd\n",
    "import numpy as np\n",
    "import matplotlib.pyplot as plt"
   ]
  },
  {
   "cell_type": "code",
   "execution_count": 41,
   "metadata": {},
   "outputs": [],
   "source": [
    "df = pd.read_csv(\"StudentDepression.csv\")"
   ]
  },
  {
   "cell_type": "code",
   "execution_count": 4,
   "metadata": {},
   "outputs": [
    {
     "data": {
      "text/html": [
       "<div>\n",
       "<style scoped>\n",
       "    .dataframe tbody tr th:only-of-type {\n",
       "        vertical-align: middle;\n",
       "    }\n",
       "\n",
       "    .dataframe tbody tr th {\n",
       "        vertical-align: top;\n",
       "    }\n",
       "\n",
       "    .dataframe thead th {\n",
       "        text-align: right;\n",
       "    }\n",
       "</style>\n",
       "<table border=\"1\" class=\"dataframe\">\n",
       "  <thead>\n",
       "    <tr style=\"text-align: right;\">\n",
       "      <th></th>\n",
       "      <th>id</th>\n",
       "      <th>Gender</th>\n",
       "      <th>Age</th>\n",
       "      <th>City</th>\n",
       "      <th>Profession</th>\n",
       "      <th>Academic Pressure</th>\n",
       "      <th>Work Pressure</th>\n",
       "      <th>CGPA</th>\n",
       "      <th>Study Satisfaction</th>\n",
       "      <th>Job Satisfaction</th>\n",
       "      <th>Sleep Duration</th>\n",
       "      <th>Dietary Habits</th>\n",
       "      <th>Degree</th>\n",
       "      <th>Have you ever had suicidal thoughts ?</th>\n",
       "      <th>Work/Study Hours</th>\n",
       "      <th>Financial Stress</th>\n",
       "      <th>Family History of Mental Illness</th>\n",
       "      <th>Depression</th>\n",
       "    </tr>\n",
       "  </thead>\n",
       "  <tbody>\n",
       "    <tr>\n",
       "      <th>0</th>\n",
       "      <td>2</td>\n",
       "      <td>Male</td>\n",
       "      <td>33.0</td>\n",
       "      <td>Visakhapatnam</td>\n",
       "      <td>Student</td>\n",
       "      <td>5.0</td>\n",
       "      <td>0.0</td>\n",
       "      <td>8.97</td>\n",
       "      <td>2.0</td>\n",
       "      <td>0.0</td>\n",
       "      <td>'5-6 hours'</td>\n",
       "      <td>Healthy</td>\n",
       "      <td>B.Pharm</td>\n",
       "      <td>Yes</td>\n",
       "      <td>3.0</td>\n",
       "      <td>1.0</td>\n",
       "      <td>No</td>\n",
       "      <td>1</td>\n",
       "    </tr>\n",
       "    <tr>\n",
       "      <th>1</th>\n",
       "      <td>8</td>\n",
       "      <td>Female</td>\n",
       "      <td>24.0</td>\n",
       "      <td>Bangalore</td>\n",
       "      <td>Student</td>\n",
       "      <td>2.0</td>\n",
       "      <td>0.0</td>\n",
       "      <td>5.90</td>\n",
       "      <td>5.0</td>\n",
       "      <td>0.0</td>\n",
       "      <td>'5-6 hours'</td>\n",
       "      <td>Moderate</td>\n",
       "      <td>BSc</td>\n",
       "      <td>No</td>\n",
       "      <td>3.0</td>\n",
       "      <td>2.0</td>\n",
       "      <td>Yes</td>\n",
       "      <td>0</td>\n",
       "    </tr>\n",
       "    <tr>\n",
       "      <th>2</th>\n",
       "      <td>26</td>\n",
       "      <td>Male</td>\n",
       "      <td>31.0</td>\n",
       "      <td>Srinagar</td>\n",
       "      <td>Student</td>\n",
       "      <td>3.0</td>\n",
       "      <td>0.0</td>\n",
       "      <td>7.03</td>\n",
       "      <td>5.0</td>\n",
       "      <td>0.0</td>\n",
       "      <td>'Less than 5 hours'</td>\n",
       "      <td>Healthy</td>\n",
       "      <td>BA</td>\n",
       "      <td>No</td>\n",
       "      <td>9.0</td>\n",
       "      <td>1.0</td>\n",
       "      <td>Yes</td>\n",
       "      <td>0</td>\n",
       "    </tr>\n",
       "    <tr>\n",
       "      <th>3</th>\n",
       "      <td>30</td>\n",
       "      <td>Female</td>\n",
       "      <td>28.0</td>\n",
       "      <td>Varanasi</td>\n",
       "      <td>Student</td>\n",
       "      <td>3.0</td>\n",
       "      <td>0.0</td>\n",
       "      <td>5.59</td>\n",
       "      <td>2.0</td>\n",
       "      <td>0.0</td>\n",
       "      <td>'7-8 hours'</td>\n",
       "      <td>Moderate</td>\n",
       "      <td>BCA</td>\n",
       "      <td>Yes</td>\n",
       "      <td>4.0</td>\n",
       "      <td>5.0</td>\n",
       "      <td>Yes</td>\n",
       "      <td>1</td>\n",
       "    </tr>\n",
       "    <tr>\n",
       "      <th>4</th>\n",
       "      <td>32</td>\n",
       "      <td>Female</td>\n",
       "      <td>25.0</td>\n",
       "      <td>Jaipur</td>\n",
       "      <td>Student</td>\n",
       "      <td>4.0</td>\n",
       "      <td>0.0</td>\n",
       "      <td>8.13</td>\n",
       "      <td>3.0</td>\n",
       "      <td>0.0</td>\n",
       "      <td>'5-6 hours'</td>\n",
       "      <td>Moderate</td>\n",
       "      <td>M.Tech</td>\n",
       "      <td>Yes</td>\n",
       "      <td>1.0</td>\n",
       "      <td>1.0</td>\n",
       "      <td>No</td>\n",
       "      <td>0</td>\n",
       "    </tr>\n",
       "  </tbody>\n",
       "</table>\n",
       "</div>"
      ],
      "text/plain": [
       "   id  Gender   Age           City Profession  Academic Pressure  \\\n",
       "0   2    Male  33.0  Visakhapatnam    Student                5.0   \n",
       "1   8  Female  24.0      Bangalore    Student                2.0   \n",
       "2  26    Male  31.0       Srinagar    Student                3.0   \n",
       "3  30  Female  28.0       Varanasi    Student                3.0   \n",
       "4  32  Female  25.0         Jaipur    Student                4.0   \n",
       "\n",
       "   Work Pressure  CGPA  Study Satisfaction  Job Satisfaction  \\\n",
       "0            0.0  8.97                 2.0               0.0   \n",
       "1            0.0  5.90                 5.0               0.0   \n",
       "2            0.0  7.03                 5.0               0.0   \n",
       "3            0.0  5.59                 2.0               0.0   \n",
       "4            0.0  8.13                 3.0               0.0   \n",
       "\n",
       "        Sleep Duration Dietary Habits   Degree  \\\n",
       "0          '5-6 hours'        Healthy  B.Pharm   \n",
       "1          '5-6 hours'       Moderate      BSc   \n",
       "2  'Less than 5 hours'        Healthy       BA   \n",
       "3          '7-8 hours'       Moderate      BCA   \n",
       "4          '5-6 hours'       Moderate   M.Tech   \n",
       "\n",
       "  Have you ever had suicidal thoughts ?  Work/Study Hours Financial Stress  \\\n",
       "0                                   Yes               3.0              1.0   \n",
       "1                                    No               3.0              2.0   \n",
       "2                                    No               9.0              1.0   \n",
       "3                                   Yes               4.0              5.0   \n",
       "4                                   Yes               1.0              1.0   \n",
       "\n",
       "  Family History of Mental Illness  Depression  \n",
       "0                               No           1  \n",
       "1                              Yes           0  \n",
       "2                              Yes           0  \n",
       "3                              Yes           1  \n",
       "4                               No           0  "
      ]
     },
     "execution_count": 4,
     "metadata": {},
     "output_type": "execute_result"
    }
   ],
   "source": [
    "df.head()"
   ]
  },
  {
   "cell_type": "code",
   "execution_count": 5,
   "metadata": {},
   "outputs": [
    {
     "name": "stdout",
     "output_type": "stream",
     "text": [
      "Unique values in 'id':\n",
      "[     2      8     26 ... 140689 140690 140699]\n",
      "--------------------------------------------------\n",
      "Unique values in 'Gender':\n",
      "['Male' 'Female']\n",
      "--------------------------------------------------\n",
      "Unique values in 'Age':\n",
      "[33. 24. 31. 28. 25. 29. 30. 27. 19. 20. 23. 18. 21. 22. 34. 32. 26. 39.\n",
      " 35. 42. 36. 58. 49. 38. 51. 44. 43. 46. 59. 54. 48. 56. 37. 41.]\n",
      "--------------------------------------------------\n",
      "Unique values in 'City':\n",
      "['Visakhapatnam' 'Bangalore' 'Srinagar' 'Varanasi' 'Jaipur' 'Pune' 'Thane'\n",
      " 'Chennai' 'Nagpur' 'Nashik' 'Vadodara' 'Kalyan' 'Rajkot' 'Ahmedabad'\n",
      " 'Kolkata' 'Mumbai' 'Lucknow' 'Indore' 'Surat' 'Ludhiana' 'Bhopal'\n",
      " 'Meerut' 'Agra' 'Ghaziabad' 'Hyderabad' 'Vasai-Virar' 'Kanpur' 'Patna'\n",
      " 'Faridabad' 'Delhi' 'Saanvi' 'M.Tech' 'Bhavna' \"'Less Delhi'\" 'City'\n",
      " '3.0' \"'Less than 5 Kalyan'\" 'Mira' 'Harsha' 'Vaanya' 'Gaurav' 'Harsh'\n",
      " 'Reyansh' 'Kibara' 'Rashi' 'ME' 'M.Com' 'Nalyan' 'Mihir' 'Nalini'\n",
      " 'Nandini' 'Khaziabad']\n",
      "--------------------------------------------------\n",
      "Unique values in 'Profession':\n",
      "['Student' \"'Civil Engineer'\" 'Architect' \"'UX/UI Designer'\"\n",
      " \"'Digital Marketer'\" \"'Content Writer'\" \"'Educational Consultant'\"\n",
      " 'Teacher' 'Manager' 'Chef' 'Doctor' 'Lawyer' 'Entrepreneur' 'Pharmacist']\n",
      "--------------------------------------------------\n",
      "Unique values in 'Academic Pressure':\n",
      "[5. 2. 3. 4. 1. 0.]\n",
      "--------------------------------------------------\n",
      "Unique values in 'Work Pressure':\n",
      "[0. 5. 2.]\n",
      "--------------------------------------------------\n",
      "Unique values in 'CGPA':\n",
      "[ 8.97    5.9     7.03    5.59    8.13    5.7     9.54    8.04    9.79\n",
      "  8.38    6.1     7.04    8.52    5.64    8.58    6.51    7.25    7.83\n",
      "  9.93    8.74    6.73    5.57    8.59    7.1     6.08    5.74    9.86\n",
      "  6.7     6.21    5.87    6.37    9.72    5.88    9.56    6.99    5.24\n",
      "  9.21    7.85    6.95    5.86    7.92    9.66    8.94    9.71    7.87\n",
      "  5.6     7.9     5.46    6.79    8.7     7.38    8.5     7.09    9.82\n",
      "  8.89    7.94    9.11    6.75    7.53    9.49    9.01    7.64    5.27\n",
      "  6.      9.44    5.75    7.51    9.05    6.38    8.95    9.88    5.32\n",
      "  6.27    7.7     8.1     9.59    8.96    5.51    7.43    8.79    9.95\n",
      "  5.37    6.86    8.32    9.74    5.66    7.48    8.23    8.81    6.03\n",
      "  5.56    5.68    5.14    7.61    6.17    8.17    9.87    8.75    6.16\n",
      "  9.5     7.99    5.67    8.92    6.19    5.76    6.25    5.11    5.58\n",
      "  5.65    9.89    8.03    6.61    9.41    8.64    7.21    8.28    6.04\n",
      "  9.13    8.08    9.96    5.12    8.35    7.07    9.6     9.24    8.54\n",
      "  8.78    8.93    8.91    9.04    6.83    5.85    7.74    6.41    8.9\n",
      "  7.75    7.88    5.42    7.52    7.68    8.4     9.39    6.84    5.99\n",
      "  8.62    8.53    7.47    6.78    6.42    9.92    8.39    5.89    7.22\n",
      "  6.81    9.02    9.97    9.63    9.67    5.41    7.27    6.05    6.85\n",
      "  9.33    5.81    6.53    5.98    6.02    6.74    5.26    7.72    7.39\n",
      "  8.43    9.34    5.44    5.82    5.72    8.19    8.44    8.98    9.37\n",
      "  5.8     7.28    7.6     7.91    9.17    7.46    9.43    9.91    9.36\n",
      "  5.16    7.08    9.26    8.83   10.      7.8     9.46    6.63    7.24\n",
      "  6.47    7.77    5.06    7.17    8.24    6.88    9.03    5.08    5.45\n",
      "  8.46    9.19    6.36    8.73    7.11    9.12    9.4     8.11    9.98\n",
      "  5.55    8.61    8.14    6.89    9.84    5.48    8.21    7.82    8.55\n",
      "  5.79    8.77    8.29    6.92    7.37    9.7     6.26    7.26    7.5\n",
      "  6.82    7.15    5.77    5.91    5.1     7.71    9.06    5.71    5.84\n",
      "  9.42    6.23    6.29    5.25    9.69    9.9     6.39    8.09    5.83\n",
      "  5.47    6.56    8.71    9.94    6.69    5.52    7.3     7.02    6.33\n",
      "  8.07    8.37    8.      7.79    8.65    6.28    7.35    8.69    7.12\n",
      "  7.32    7.13    5.97    5.09    6.91    6.76    6.52    7.45    8.56\n",
      "  6.5     8.63    8.27    8.49    6.59    9.29    5.3     7.06    5.38\n",
      "  6.65    9.16    8.01    8.25    8.02    8.47    7.34    8.88    7.14\n",
      "  8.42    5.17    9.1     7.49    9.85    7.42    9.31    6.35    7.\n",
      "  5.39    5.61    9.78    9.25    5.69    9.47    8.16    7.23    6.46\n",
      "  0.      8.26    6.32    6.77    8.85    5.03    7.65    5.78    6.24\n",
      "  5.35    6.06    7.78    6.64    7.0625  6.98    6.44    6.09  ]\n",
      "--------------------------------------------------\n",
      "Unique values in 'Study Satisfaction':\n",
      "[2. 5. 3. 4. 1. 0.]\n",
      "--------------------------------------------------\n",
      "Unique values in 'Job Satisfaction':\n",
      "[0. 3. 4. 2. 1.]\n",
      "--------------------------------------------------\n",
      "Unique values in 'Sleep Duration':\n",
      "[\"'5-6 hours'\" \"'Less than 5 hours'\" \"'7-8 hours'\" \"'More than 8 hours'\"\n",
      " 'Others']\n",
      "--------------------------------------------------\n",
      "Unique values in 'Dietary Habits':\n",
      "['Healthy' 'Moderate' 'Unhealthy' 'Others']\n",
      "--------------------------------------------------\n",
      "Unique values in 'Degree':\n",
      "['B.Pharm' 'BSc' 'BA' 'BCA' 'M.Tech' 'PhD' \"'Class 12'\" 'B.Ed' 'LLB' 'BE'\n",
      " 'M.Ed' 'MSc' 'BHM' 'M.Pharm' 'MCA' 'MA' 'B.Com' 'MD' 'MBA' 'MBBS' 'M.Com'\n",
      " 'B.Arch' 'LLM' 'B.Tech' 'BBA' 'ME' 'MHM' 'Others']\n",
      "--------------------------------------------------\n",
      "Unique values in 'Have you ever had suicidal thoughts ?':\n",
      "['Yes' 'No']\n",
      "--------------------------------------------------\n",
      "Unique values in 'Work/Study Hours':\n",
      "[ 3.  9.  4.  1.  0. 12.  2. 11. 10.  6.  8.  5.  7.]\n",
      "--------------------------------------------------\n",
      "Unique values in 'Financial Stress':\n",
      "['1.0' '2.0' '5.0' '3.0' '4.0' '?']\n",
      "--------------------------------------------------\n",
      "Unique values in 'Family History of Mental Illness':\n",
      "['No' 'Yes']\n",
      "--------------------------------------------------\n",
      "Unique values in 'Depression':\n",
      "[1 0]\n",
      "--------------------------------------------------\n"
     ]
    }
   ],
   "source": [
    "for column in df.columns:\n",
    "    unique_values = df[column].unique()\n",
    "    print(f\"Unique values in '{column}':\\n{unique_values}\\n{'-'*50}\")\n"
   ]
  },
  {
   "cell_type": "code",
   "execution_count": 42,
   "metadata": {},
   "outputs": [],
   "source": [
    "def convert_sleep_duration(value):\n",
    "    value = str(value).strip()\n",
    "    if \"Less than 5\" in value:\n",
    "        return 4  \n",
    "    elif \"5-6\" in value:\n",
    "        return 5.5  \n",
    "    elif \"7-8\" in value:\n",
    "        return 7.5  \n",
    "    elif \"More than 8\" in value:\n",
    "        return 9  \n",
    "    else:\n",
    "        return np.nan  \n",
    "\n",
    "df['Sleep Duration'] = df['Sleep Duration'].apply(convert_sleep_duration)\n"
   ]
  },
  {
   "cell_type": "code",
   "execution_count": 43,
   "metadata": {},
   "outputs": [],
   "source": [
    "df['Have you ever had suicidal thoughts ?'] = df['Have you ever had suicidal thoughts ?'].fillna('No').map({'Yes': 1, 'No': 0})\n",
    "\n",
    "df['Family History of Mental Illness'] = df['Family History of Mental Illness'].map({'Yes': 1, 'No': 0})\n"
   ]
  },
  {
   "cell_type": "code",
   "execution_count": 44,
   "metadata": {},
   "outputs": [
    {
     "name": "stdout",
     "output_type": "stream",
     "text": [
      "Unique values in 'Profession':\n",
      "['Student' \"'Civil Engineer'\" 'Architect' \"'UX/UI Designer'\"\n",
      " \"'Digital Marketer'\" \"'Content Writer'\" \"'Educational Consultant'\"\n",
      " 'Teacher' 'Manager' 'Chef' 'Doctor' 'Lawyer' 'Entrepreneur' 'Pharmacist']\n",
      "--------------------------------------------------\n",
      "Unique values in 'City':\n",
      "['Visakhapatnam' 'Bangalore' 'Srinagar' 'Varanasi' 'Jaipur' 'Pune' 'Thane'\n",
      " 'Chennai' 'Nagpur' 'Nashik' 'Vadodara' 'Kalyan' 'Rajkot' 'Ahmedabad'\n",
      " 'Kolkata' 'Mumbai' 'Lucknow' 'Indore' 'Surat' 'Ludhiana' 'Bhopal'\n",
      " 'Meerut' 'Agra' 'Ghaziabad' 'Hyderabad' 'Vasai-Virar' 'Kanpur' 'Patna'\n",
      " 'Faridabad' 'Delhi' 'Saanvi' 'M.Tech' 'Bhavna' \"'Less Delhi'\" 'City'\n",
      " '3.0' \"'Less than 5 Kalyan'\" 'Mira' 'Harsha' 'Vaanya' 'Gaurav' 'Harsh'\n",
      " 'Reyansh' 'Kibara' 'Rashi' 'ME' 'M.Com' 'Nalyan' 'Mihir' 'Nalini'\n",
      " 'Nandini' 'Khaziabad']\n",
      "--------------------------------------------------\n",
      "Unique values in 'Sleep Duration':\n",
      "[5.5 4.  7.5 9.  nan]\n",
      "--------------------------------------------------\n",
      "Unique values in 'Have you ever had suicidal thoughts ?':\n",
      "[1 0]\n",
      "--------------------------------------------------\n",
      "Unique values in 'Family History of Mental Illness':\n",
      "[0 1]\n",
      "--------------------------------------------------\n"
     ]
    }
   ],
   "source": [
    "for column in ['Profession', 'City', 'Sleep Duration', 'Have you ever had suicidal thoughts ?', 'Family History of Mental Illness']:\n",
    "    print(f\"Unique values in '{column}':\\n{df[column].unique()}\\n{'-'*50}\")\n"
   ]
  },
  {
   "cell_type": "markdown",
   "metadata": {},
   "source": [
    "#the analysis starts here"
   ]
  },
  {
   "cell_type": "code",
   "execution_count": 27,
   "metadata": {},
   "outputs": [
    {
     "name": "stdout",
     "output_type": "stream",
     "text": [
      "Profession\n",
      "Student                     27870\n",
      "Architect                       8\n",
      "Teacher                         6\n",
      "'Digital Marketer'              3\n",
      "Chef                            2\n",
      "'Content Writer'                2\n",
      "Pharmacist                      2\n",
      "Doctor                          2\n",
      "'UX/UI Designer'                1\n",
      "'Civil Engineer'                1\n",
      "Manager                         1\n",
      "'Educational Consultant'        1\n",
      "Lawyer                          1\n",
      "Entrepreneur                    1\n",
      "Name: count, dtype: int64\n"
     ]
    }
   ],
   "source": [
    "print(df['Profession'].value_counts())\n"
   ]
  },
  {
   "cell_type": "code",
   "execution_count": 28,
   "metadata": {},
   "outputs": [
    {
     "name": "stdout",
     "output_type": "stream",
     "text": [
      "Academic Pressure  Depression\n",
      "0.0                0             55.555556\n",
      "                   1             44.444444\n",
      "1.0                0             80.587378\n",
      "                   1             19.412622\n",
      "2.0                0             62.517951\n",
      "                   1             37.482049\n",
      "3.0                1             60.158135\n",
      "                   0             39.841865\n",
      "4.0                1             76.139670\n",
      "                   0             23.860330\n",
      "5.0                1             86.086404\n",
      "                   0             13.913596\n",
      "Name: proportion, dtype: float64\n"
     ]
    }
   ],
   "source": [
    "print(df.groupby('Academic Pressure')['Depression'].value_counts(normalize=True) * 100)\n"
   ]
  },
  {
   "cell_type": "code",
   "execution_count": 30,
   "metadata": {},
   "outputs": [
    {
     "name": "stdout",
     "output_type": "stream",
     "text": [
      "Sleep Duration  Depression\n",
      "4.0             1             64.512635\n",
      "                0             35.487365\n",
      "5.5             1             56.881773\n",
      "                0             43.118227\n",
      "7.5             1             59.501770\n",
      "                0             40.498230\n",
      "9.0             1             50.926539\n",
      "                0             49.073461\n",
      "Name: proportion, dtype: float64\n"
     ]
    }
   ],
   "source": [
    "print(df.groupby('Sleep Duration')['Depression'].value_counts(normalize=True) * 100)\n"
   ]
  },
  {
   "cell_type": "code",
   "execution_count": 31,
   "metadata": {},
   "outputs": [
    {
     "name": "stdout",
     "output_type": "stream",
     "text": [
      "Family History of Mental Illness  Depression\n",
      "0                                 1             56.000833\n",
      "                                  0             43.999167\n",
      "1                                 1             61.267866\n",
      "                                  0             38.732134\n",
      "Name: proportion, dtype: float64\n"
     ]
    }
   ],
   "source": [
    "print(df.groupby('Family History of Mental Illness')['Depression'].value_counts(normalize=True) * 100)\n"
   ]
  },
  {
   "cell_type": "code",
   "execution_count": null,
   "metadata": {},
   "outputs": [
    {
     "name": "stdout",
     "output_type": "stream",
     "text": [
      "CGPA            Depression\n",
      "(-0.001, 6.29]  1             56.811388\n",
      "                0             43.188612\n",
      "(6.29, 7.77]    1             56.726808\n",
      "                0             43.273192\n",
      "(7.77, 8.92]    1             62.692419\n",
      "                0             37.307581\n",
      "(8.92, 10.0]    1             58.049202\n",
      "                0             41.950798\n",
      "Name: proportion, dtype: float64\n"
     ]
    },
    {
     "name": "stderr",
     "output_type": "stream",
     "text": [
      "C:\\Users\\Masters\\AppData\\Local\\Temp\\ipykernel_7224\\2161031868.py:2: FutureWarning: The default of observed=False is deprecated and will be changed to True in a future version of pandas. Pass observed=False to retain current behavior or observed=True to adopt the future default and silence this warning.\n",
      "  print(df.groupby(pd.qcut(df['CGPA'], 4))['Depression'].value_counts(normalize=True) * 100)\n"
     ]
    }
   ],
   "source": [
    "df['CGPA'] = pd.to_numeric(df['CGPA'], errors='coerce')  \n",
    "print(df.groupby(pd.qcut(df['CGPA'], 4))['Depression'].value_counts(normalize=True) * 100)\n"
   ]
  },
  {
   "cell_type": "code",
   "execution_count": 33,
   "metadata": {},
   "outputs": [
    {
     "name": "stdout",
     "output_type": "stream",
     "text": [
      "Financial Stress  Depression\n",
      "1.0               0             68.131224\n",
      "                  1             31.868776\n",
      "2.0               0             57.024303\n",
      "                  1             42.975697\n",
      "3.0               1             58.936089\n",
      "                  0             41.063911\n",
      "4.0               1             69.090909\n",
      "                  0             30.909091\n",
      "5.0               1             81.280715\n",
      "                  0             18.719285\n",
      "?                 0             66.666667\n",
      "                  1             33.333333\n",
      "Name: proportion, dtype: float64\n"
     ]
    }
   ],
   "source": [
    "print(df.groupby('Financial Stress')['Depression'].value_counts(normalize=True) * 100)\n"
   ]
  },
  {
   "cell_type": "code",
   "execution_count": 34,
   "metadata": {},
   "outputs": [
    {
     "name": "stdout",
     "output_type": "stream",
     "text": [
      "Dietary Habits  Depression\n",
      "Healthy         0             54.607241\n",
      "                1             45.392759\n",
      "Moderate        1             56.022578\n",
      "                0             43.977422\n",
      "Others          1             66.666667\n",
      "                0             33.333333\n",
      "Unhealthy       1             70.727925\n",
      "                0             29.272075\n",
      "Name: proportion, dtype: float64\n"
     ]
    }
   ],
   "source": [
    "print(df.groupby('Dietary Habits')['Depression'].value_counts(normalize=True) * 100)\n"
   ]
  },
  {
   "cell_type": "code",
   "execution_count": 35,
   "metadata": {},
   "outputs": [
    {
     "name": "stdout",
     "output_type": "stream",
     "text": [
      "Work/Study Hours  Depression\n",
      "(-0.001, 4.0]     0             56.459330\n",
      "                  1             43.540670\n",
      "(4.0, 8.0]        1             58.835217\n",
      "                  0             41.164783\n",
      "(8.0, 10.0]       1             66.980831\n",
      "                  0             33.019169\n",
      "(10.0, 12.0]      1             68.090369\n",
      "                  0             31.909631\n",
      "Name: proportion, dtype: float64\n"
     ]
    },
    {
     "name": "stderr",
     "output_type": "stream",
     "text": [
      "C:\\Users\\Masters\\AppData\\Local\\Temp\\ipykernel_7224\\100289211.py:2: FutureWarning: The default of observed=False is deprecated and will be changed to True in a future version of pandas. Pass observed=False to retain current behavior or observed=True to adopt the future default and silence this warning.\n",
      "  print(df.groupby(pd.qcut(df['Work/Study Hours'], 4))['Depression'].value_counts(normalize=True) * 100)\n"
     ]
    }
   ],
   "source": [
    "df['Work/Study Hours'] = pd.to_numeric(df['Work/Study Hours'], errors='coerce')  \n",
    "print(df.groupby(pd.qcut(df['Work/Study Hours'], 4))['Depression'].value_counts(normalize=True) * 100)\n"
   ]
  },
  {
   "cell_type": "code",
   "execution_count": 37,
   "metadata": {},
   "outputs": [
    {
     "name": "stdout",
     "output_type": "stream",
     "text": [
      "Gender  Depression\n",
      "Female  1             58.450704\n",
      "        0             41.549296\n",
      "Male    1             58.628674\n",
      "        0             41.371326\n",
      "Name: proportion, dtype: float64\n"
     ]
    }
   ],
   "source": [
    "print(df.groupby('Gender')['Depression'].value_counts(normalize=True) * 100)\n"
   ]
  },
  {
   "cell_type": "code",
   "execution_count": 38,
   "metadata": {},
   "outputs": [
    {
     "name": "stdout",
     "output_type": "stream",
     "text": [
      "Have you ever had suicidal thoughts ?  Depression\n",
      "0                                      0             76.778917\n",
      "                                       1             23.221083\n",
      "1                                      1             79.049615\n",
      "                                       0             20.950385\n",
      "Name: proportion, dtype: float64\n"
     ]
    }
   ],
   "source": [
    "print(df.groupby('Have you ever had suicidal thoughts ?')['Depression'].value_counts(normalize=True) * 100)\n"
   ]
  },
  {
   "cell_type": "code",
   "execution_count": 45,
   "metadata": {},
   "outputs": [
    {
     "name": "stdout",
     "output_type": "stream",
     "text": [
      "id                                        0\n",
      "Gender                                    0\n",
      "Age                                       0\n",
      "City                                      0\n",
      "Profession                                0\n",
      "Academic Pressure                         0\n",
      "Work Pressure                             0\n",
      "CGPA                                      0\n",
      "Study Satisfaction                        0\n",
      "Job Satisfaction                          0\n",
      "Sleep Duration                           18\n",
      "Dietary Habits                            0\n",
      "Degree                                    0\n",
      "Have you ever had suicidal thoughts ?     0\n",
      "Work/Study Hours                          0\n",
      "Financial Stress                          0\n",
      "Family History of Mental Illness          0\n",
      "Depression                                0\n",
      "dtype: int64\n"
     ]
    }
   ],
   "source": [
    "print(df.isnull().sum())\n"
   ]
  },
  {
   "cell_type": "code",
   "execution_count": 48,
   "metadata": {},
   "outputs": [
    {
     "data": {
      "text/plain": [
       "27901"
      ]
     },
     "execution_count": 48,
     "metadata": {},
     "output_type": "execute_result"
    }
   ],
   "source": [
    "df.shape[0]"
   ]
  }
 ],
 "metadata": {
  "kernelspec": {
   "display_name": "Python 3",
   "language": "python",
   "name": "python3"
  },
  "language_info": {
   "codemirror_mode": {
    "name": "ipython",
    "version": 3
   },
   "file_extension": ".py",
   "mimetype": "text/x-python",
   "name": "python",
   "nbconvert_exporter": "python",
   "pygments_lexer": "ipython3",
   "version": "3.12.5"
  }
 },
 "nbformat": 4,
 "nbformat_minor": 2
}
